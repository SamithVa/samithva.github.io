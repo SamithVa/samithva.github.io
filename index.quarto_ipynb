{
  "cells": [
    {
      "cell_type": "markdown",
      "metadata": {},
      "source": [
        "---\n",
        "title: \"Pandas\"\n",
        "author: \"Samith Va\"\n",
        "date: \"2024-08-01\"\n",
        "categories: [pandas]\n",
        "format:\n",
        "  html:\n",
        "    code-fold: false\n",
        "jupyter: python3\n",
        "---\n",
        "\n",
        "\n",
        "Pandas is a powerful and versatile open-source data analysis and manipulation library for Python. It is widely used in data science, finance, economics, and many other fields for its ability to handle structured data easily and efficiently.\n",
        "\n",
        "# Data Structures:\n",
        "\n",
        "Two common data structures in Pandas are `Series` and `DataFrame`. \n",
        "\n",
        "## Series\n",
        "\n",
        "A one-dimensional labeled array capable of holding any data type (integer, string, float, etc.). It is similar to a column in a table.\n",
        "\n",
        "```python\n",
        "import pandas as pd\n",
        "\n",
        "# Creating a Series\n",
        "data = [10, 20, 30, 40]\n",
        "s = pd.Series(data)\n",
        "\n",
        "print(s)\n",
        "```\n",
        "\n",
        "- `DataFrame`: A two-dimensional labeled data structure with columns of potentially different types. It is similar to a table in a database or an Excel spreadsheet.\n",
        "\n",
        "```python\n",
        "# Creating a DataFrame\n",
        "data = {'Name': ['Alice', 'Bob', 'Charlie'],\n",
        "        'Age': [25, 30, 35],\n",
        "        'City': ['New York', 'Los Angeles', 'Chicago']}\n",
        "df = pd.DataFrame(data)\n",
        "\n",
        "print(df)\n",
        "```"
      ],
      "id": "6344161e"
    }
  ],
  "metadata": {
    "kernelspec": {
      "display_name": "Python 3",
      "language": "python",
      "name": "python3"
    }
  },
  "nbformat": 4,
  "nbformat_minor": 5
}